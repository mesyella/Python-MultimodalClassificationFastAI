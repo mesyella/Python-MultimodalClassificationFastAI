{
 "cells": [
  {
   "cell_type": "markdown",
   "metadata": {
    "id": "nG2R4XDYeQcN"
   },
   "source": [
    "# Deep Learning Final Exam"
   ]
  },
  {
   "cell_type": "markdown",
   "metadata": {
    "id": "_zWL_YXOeUdD"
   },
   "source": [
    "## Mesyella/2201793281"
   ]
  },
  {
   "cell_type": "markdown",
   "metadata": {
    "id": "wyhzounneX5O"
   },
   "source": [
    "### 2. Iris Classification with Fastai"
   ]
  },
  {
   "cell_type": "markdown",
   "metadata": {
    "id": "ttPYphS5fCNb"
   },
   "source": [
    "Disini saya mengklasifikasikan 3 jenis tipe bunga yaitu iris-setosa, iris-versicolor, dan iris-virginica dengan menggunakan 2 tipe data yaitu data tabular yang terdiri dari 4 variabel dan data gambar."
   ]
  },
  {
   "cell_type": "markdown",
   "metadata": {},
   "source": [
    "### A. Code"
   ]
  },
  {
   "cell_type": "markdown",
   "metadata": {
    "id": "PxUfsBznfVgS"
   },
   "source": [
    "### Install Torch version"
   ]
  },
  {
   "cell_type": "markdown",
   "metadata": {
    "id": "P_XrE1mZfYRL"
   },
   "source": [
    "Disini saya menginstall versi torch yang sesuai dengan algoritma yang saya gunakan"
   ]
  },
  {
   "cell_type": "code",
   "execution_count": 1,
   "metadata": {
    "colab": {
     "base_uri": "https://localhost:8080/"
    },
    "id": "mwKELAk1JPYS",
    "outputId": "db3530f2-ab9e-4f9d-d7ca-2ec3e69acb71"
   },
   "outputs": [
    {
     "name": "stdout",
     "output_type": "stream",
     "text": [
      "Requirement already satisfied: torch==1.4 in /usr/local/lib/python3.6/dist-packages (1.4.0)\n",
      "Requirement already satisfied: torchvision==0.5.0 in /usr/local/lib/python3.6/dist-packages (0.5.0)\n",
      "Requirement already satisfied: six in /usr/local/lib/python3.6/dist-packages (from torchvision==0.5.0) (1.15.0)\n",
      "Requirement already satisfied: pillow>=4.1.1 in /usr/local/lib/python3.6/dist-packages (from torchvision==0.5.0) (7.0.0)\n",
      "Requirement already satisfied: numpy in /usr/local/lib/python3.6/dist-packages (from torchvision==0.5.0) (1.19.5)\n"
     ]
    }
   ],
   "source": [
    "!pip install \"torch==1.4\" \"torchvision==0.5.0\""
   ]
  },
  {
   "cell_type": "markdown",
   "metadata": {
    "id": "cfSr99jhfdqU"
   },
   "source": [
    "### Install image-tabular library"
   ]
  },
  {
   "cell_type": "markdown",
   "metadata": {
    "id": "MPomx-gZhQx7"
   },
   "source": [
    "Library ini merupakan library untuk deep learning yang menggunakan fastai dan pytorch untuk menggabungkan data tabular dan data gambar serta melakukan training model yang telah digabung.\n",
    "Dokumentasi: https://pypi.org/project/image-tabular/"
   ]
  },
  {
   "cell_type": "code",
   "execution_count": 2,
   "metadata": {
    "colab": {
     "base_uri": "https://localhost:8080/"
    },
    "id": "qXN_anXQRQGf",
    "outputId": "edf340be-6095-4954-e521-9c42883c3bfd"
   },
   "outputs": [
    {
     "name": "stdout",
     "output_type": "stream",
     "text": [
      "Requirement already satisfied: image_tabular in /usr/local/lib/python3.6/dist-packages (0.0.6)\n",
      "Requirement already satisfied: fastai in /usr/local/lib/python3.6/dist-packages (from image_tabular) (1.0.61)\n",
      "Requirement already satisfied: torch in /usr/local/lib/python3.6/dist-packages (from image_tabular) (1.4.0)\n",
      "Requirement already satisfied: scikit-learn in /usr/local/lib/python3.6/dist-packages (from image_tabular) (0.22.2.post1)\n",
      "Requirement already satisfied: torchvision in /usr/local/lib/python3.6/dist-packages (from image_tabular) (0.5.0)\n",
      "Requirement already satisfied: fastprogress>=0.2.1 in /usr/local/lib/python3.6/dist-packages (from fastai->image_tabular) (1.0.0)\n",
      "Requirement already satisfied: packaging in /usr/local/lib/python3.6/dist-packages (from fastai->image_tabular) (20.9)\n",
      "Requirement already satisfied: scipy in /usr/local/lib/python3.6/dist-packages (from fastai->image_tabular) (1.4.1)\n",
      "Requirement already satisfied: bottleneck in /usr/local/lib/python3.6/dist-packages (from fastai->image_tabular) (1.3.2)\n",
      "Requirement already satisfied: beautifulsoup4 in /usr/local/lib/python3.6/dist-packages (from fastai->image_tabular) (4.6.3)\n",
      "Requirement already satisfied: matplotlib in /usr/local/lib/python3.6/dist-packages (from fastai->image_tabular) (3.2.2)\n",
      "Requirement already satisfied: dataclasses; python_version < \"3.7\" in /usr/local/lib/python3.6/dist-packages (from fastai->image_tabular) (0.8)\n",
      "Requirement already satisfied: pyyaml in /usr/local/lib/python3.6/dist-packages (from fastai->image_tabular) (3.13)\n",
      "Requirement already satisfied: spacy>=2.0.18; python_version < \"3.8\" in /usr/local/lib/python3.6/dist-packages (from fastai->image_tabular) (2.2.4)\n",
      "Requirement already satisfied: nvidia-ml-py3 in /usr/local/lib/python3.6/dist-packages (from fastai->image_tabular) (7.352.0)\n",
      "Requirement already satisfied: numpy>=1.15 in /usr/local/lib/python3.6/dist-packages (from fastai->image_tabular) (1.19.5)\n",
      "Requirement already satisfied: pandas in /usr/local/lib/python3.6/dist-packages (from fastai->image_tabular) (1.1.5)\n",
      "Requirement already satisfied: requests in /usr/local/lib/python3.6/dist-packages (from fastai->image_tabular) (2.23.0)\n",
      "Requirement already satisfied: Pillow in /usr/local/lib/python3.6/dist-packages (from fastai->image_tabular) (7.0.0)\n",
      "Requirement already satisfied: numexpr in /usr/local/lib/python3.6/dist-packages (from fastai->image_tabular) (2.7.2)\n",
      "Requirement already satisfied: joblib>=0.11 in /usr/local/lib/python3.6/dist-packages (from scikit-learn->image_tabular) (1.0.0)\n",
      "Requirement already satisfied: six in /usr/local/lib/python3.6/dist-packages (from torchvision->image_tabular) (1.15.0)\n",
      "Requirement already satisfied: pyparsing>=2.0.2 in /usr/local/lib/python3.6/dist-packages (from packaging->fastai->image_tabular) (2.4.7)\n",
      "Requirement already satisfied: python-dateutil>=2.1 in /usr/local/lib/python3.6/dist-packages (from matplotlib->fastai->image_tabular) (2.8.1)\n",
      "Requirement already satisfied: cycler>=0.10 in /usr/local/lib/python3.6/dist-packages (from matplotlib->fastai->image_tabular) (0.10.0)\n",
      "Requirement already satisfied: kiwisolver>=1.0.1 in /usr/local/lib/python3.6/dist-packages (from matplotlib->fastai->image_tabular) (1.3.1)\n",
      "Requirement already satisfied: srsly<1.1.0,>=1.0.2 in /usr/local/lib/python3.6/dist-packages (from spacy>=2.0.18; python_version < \"3.8\"->fastai->image_tabular) (1.0.5)\n",
      "Requirement already satisfied: blis<0.5.0,>=0.4.0 in /usr/local/lib/python3.6/dist-packages (from spacy>=2.0.18; python_version < \"3.8\"->fastai->image_tabular) (0.4.1)\n",
      "Requirement already satisfied: wasabi<1.1.0,>=0.4.0 in /usr/local/lib/python3.6/dist-packages (from spacy>=2.0.18; python_version < \"3.8\"->fastai->image_tabular) (0.8.2)\n",
      "Requirement already satisfied: thinc==7.4.0 in /usr/local/lib/python3.6/dist-packages (from spacy>=2.0.18; python_version < \"3.8\"->fastai->image_tabular) (7.4.0)\n",
      "Requirement already satisfied: murmurhash<1.1.0,>=0.28.0 in /usr/local/lib/python3.6/dist-packages (from spacy>=2.0.18; python_version < \"3.8\"->fastai->image_tabular) (1.0.5)\n",
      "Requirement already satisfied: plac<1.2.0,>=0.9.6 in /usr/local/lib/python3.6/dist-packages (from spacy>=2.0.18; python_version < \"3.8\"->fastai->image_tabular) (1.1.3)\n",
      "Requirement already satisfied: tqdm<5.0.0,>=4.38.0 in /usr/local/lib/python3.6/dist-packages (from spacy>=2.0.18; python_version < \"3.8\"->fastai->image_tabular) (4.41.1)\n",
      "Requirement already satisfied: cymem<2.1.0,>=2.0.2 in /usr/local/lib/python3.6/dist-packages (from spacy>=2.0.18; python_version < \"3.8\"->fastai->image_tabular) (2.0.5)\n",
      "Requirement already satisfied: preshed<3.1.0,>=3.0.2 in /usr/local/lib/python3.6/dist-packages (from spacy>=2.0.18; python_version < \"3.8\"->fastai->image_tabular) (3.0.5)\n",
      "Requirement already satisfied: setuptools in /usr/local/lib/python3.6/dist-packages (from spacy>=2.0.18; python_version < \"3.8\"->fastai->image_tabular) (53.0.0)\n",
      "Requirement already satisfied: catalogue<1.1.0,>=0.0.7 in /usr/local/lib/python3.6/dist-packages (from spacy>=2.0.18; python_version < \"3.8\"->fastai->image_tabular) (1.0.0)\n",
      "Requirement already satisfied: pytz>=2017.2 in /usr/local/lib/python3.6/dist-packages (from pandas->fastai->image_tabular) (2018.9)\n",
      "Requirement already satisfied: urllib3!=1.25.0,!=1.25.1,<1.26,>=1.21.1 in /usr/local/lib/python3.6/dist-packages (from requests->fastai->image_tabular) (1.24.3)\n",
      "Requirement already satisfied: certifi>=2017.4.17 in /usr/local/lib/python3.6/dist-packages (from requests->fastai->image_tabular) (2020.12.5)\n",
      "Requirement already satisfied: idna<3,>=2.5 in /usr/local/lib/python3.6/dist-packages (from requests->fastai->image_tabular) (2.10)\n",
      "Requirement already satisfied: chardet<4,>=3.0.2 in /usr/local/lib/python3.6/dist-packages (from requests->fastai->image_tabular) (3.0.4)\n",
      "Requirement already satisfied: importlib-metadata>=0.20; python_version < \"3.8\" in /usr/local/lib/python3.6/dist-packages (from catalogue<1.1.0,>=0.0.7->spacy>=2.0.18; python_version < \"3.8\"->fastai->image_tabular) (3.4.0)\n",
      "Requirement already satisfied: zipp>=0.5 in /usr/local/lib/python3.6/dist-packages (from importlib-metadata>=0.20; python_version < \"3.8\"->catalogue<1.1.0,>=0.0.7->spacy>=2.0.18; python_version < \"3.8\"->fastai->image_tabular) (3.4.0)\n",
      "Requirement already satisfied: typing-extensions>=3.6.4; python_version < \"3.8\" in /usr/local/lib/python3.6/dist-packages (from importlib-metadata>=0.20; python_version < \"3.8\"->catalogue<1.1.0,>=0.0.7->spacy>=2.0.18; python_version < \"3.8\"->fastai->image_tabular) (3.7.4.3)\n"
     ]
    }
   ],
   "source": [
    "pip install image_tabular"
   ]
  },
  {
   "cell_type": "markdown",
   "metadata": {
    "id": "HQRtp4ejh0lY"
   },
   "source": [
    "### Import library"
   ]
  },
  {
   "cell_type": "markdown",
   "metadata": {
    "id": "3_cNOrrDh4S-"
   },
   "source": [
    "Disini saya import library-library yang dibutuhkan untuk membuat model deep learning yang mengklasifikasi bunga tersebut. Library yang digunakan berasal dari fastai dan juga image_tabular. Selain itu, apabila terdapat gpu maka saya menggunakan gpu, apabila tidak ada maka akan menggunaka cpu untuk runningnya."
   ]
  },
  {
   "cell_type": "code",
   "execution_count": 3,
   "metadata": {
    "colab": {
     "base_uri": "https://localhost:8080/"
    },
    "id": "xFIpFA5vRU6r",
    "outputId": "613ae33d-22d7-42fb-efd8-065f21ebf85b"
   },
   "outputs": [
    {
     "data": {
      "text/plain": [
       "device(type='cpu')"
      ]
     },
     "execution_count": 3,
     "metadata": {
      "tags": []
     },
     "output_type": "execute_result"
    }
   ],
   "source": [
    "from fastai.vision import *\n",
    "from fastai.tabular import *\n",
    "from image_tabular.core import *\n",
    "from image_tabular.dataset import *\n",
    "from image_tabular.model import *\n",
    "from image_tabular.metric import *\n",
    "from sklearn.model_selection import train_test_split\n",
    "from sklearn.preprocessing import LabelEncoder \n",
    "# use gpu by default if available\n",
    "device = torch.device('cuda:0' if torch.cuda.is_available() else 'cpu')\n",
    "device"
   ]
  },
  {
   "cell_type": "markdown",
   "metadata": {
    "id": "_-7d5391iN5I"
   },
   "source": [
    "### Prepare Data"
   ]
  },
  {
   "cell_type": "markdown",
   "metadata": {
    "id": "7xGCmdTgz95h"
   },
   "source": [
    "Dataset terdiri dari 150 bunga dengan tiga jenis berbeda yaitu Iris-setosa, Iris-versicolor, dan Iris-virginica. Data tabular terdiri dari 4 variabel yaitu sepal_length, sepal_width, petal_length, dan petal_width dan juga data gambar dari bunga tersebut."
   ]
  },
  {
   "cell_type": "markdown",
   "metadata": {
    "id": "jyJt_4qR0tIw"
   },
   "source": [
    "Data diambil dari iris-multimodal.csv yang kemudian dibagi menjadi train data dan test data dengan ratio 0.9. Data yang dibagi memiliki jumlah jenis bunga yang seimbang sehingga hasil yang didapatkan tidak condong ke satu jenis bunga."
   ]
  },
  {
   "cell_type": "code",
   "execution_count": 4,
   "metadata": {
    "id": "Yi8trcgiRkyD"
   },
   "outputs": [],
   "source": [
    "train_test_ratio = 0.9\n",
    "data = pd.read_csv('iris_multimodal.csv')\n",
    "data_setosa = data[data['species'] == 'Iris-setosa']\n",
    "data_color = data[data['species'] == 'Iris-versicolor']\n",
    "data_virgin = data[data['species'] == 'Iris-virginica']\n",
    "\n",
    "# Train-test-split\n",
    "df_setosa_full_train, df_setosa_test = train_test_split(data_setosa, train_size = train_test_ratio, random_state = 1)\n",
    "df_color_full_train, df_color_test = train_test_split(data_color, train_size = train_test_ratio, random_state = 1)\n",
    "df_virgin_full_train, df_virgin_test = train_test_split(data_virgin, train_size = train_test_ratio, random_state = 1)\n",
    "df_train = pd.concat([df_setosa_full_train, df_color_full_train, df_virgin_full_train], ignore_index=True, sort=False)\n",
    "df_test = pd.concat([df_setosa_test, df_color_test, df_virgin_test], ignore_index=True, sort=False)\n",
    "\n",
    "# Encode species\n",
    "le = LabelEncoder()  \n",
    "df_train['species']= le.fit_transform(df_train['species']) \n",
    "df_test['species']= le.fit_transform(df_test['species']) "
   ]
  },
  {
   "cell_type": "markdown",
   "metadata": {
    "id": "Dkp8yAdN1OoU"
   },
   "source": [
    "Kemudian menggunakan fastai untuk mengambil data gambar dan data tabular lalu mengubah menjadi fastai labellist."
   ]
  },
  {
   "cell_type": "code",
   "execution_count": 5,
   "metadata": {
    "colab": {
     "base_uri": "https://localhost:8080/"
    },
    "id": "zz_qOlR7UxeI",
    "outputId": "449774de-0590-4c09-d8c2-2119757a3a66"
   },
   "outputs": [
    {
     "data": {
      "text/plain": [
       "LabelLists;\n",
       "\n",
       "Train: LabelList (108 items)\n",
       "x: TabularList\n",
       "sepal_length -1.4919; sepal_width 0.1212; petal_length -1.2816; petal_width -1.2870; ,sepal_length -0.6527; sepal_width 1.4527; petal_length -1.2816; petal_width -1.2870; ,sepal_length -1.3720; sepal_width 0.3431; petal_length -1.2246; petal_width -1.2870; ,sepal_length -0.8925; sepal_width 1.6746; petal_length -1.2246; petal_width -1.2870; ,sepal_length -0.5328; sepal_width 0.7870; petal_length -1.2816; petal_width -1.0272; \n",
       "y: CategoryList\n",
       "0,0,0,0,0\n",
       "Path: .;\n",
       "\n",
       "Valid: LabelList (27 items)\n",
       "x: TabularList\n",
       "sepal_length 1.6251; sepal_width 0.3431; petal_length 1.2848; petal_width 0.7914; ,sepal_length -1.4919; sepal_width 0.3431; petal_length -1.3387; petal_width -1.2870; ,sepal_length -0.4129; sepal_width -1.6541; petal_length 0.1442; petal_width 0.1419; ,sepal_length 0.5461; sepal_width 0.5651; petal_length 1.2848; petal_width 1.7007; ,sepal_length -0.1732; sepal_width -0.5445; petal_length 0.4293; petal_width 0.1419; \n",
       "y: CategoryList\n",
       "2,0,1,2,1\n",
       "Path: .;\n",
       "\n",
       "Test: LabelList (15 items)\n",
       "x: TabularList\n",
       "sepal_length -0.7726; sepal_width 1.0089; petal_length -1.2816; petal_width -1.2870; ,sepal_length -1.0124; sepal_width 0.3431; petal_length -1.4527; petal_width -1.2870; ,sepal_length -1.0124; sepal_width 1.0089; petal_length -1.3957; petal_width -1.1571; ,sepal_length -1.7317; sepal_width -0.1007; petal_length -1.3957; petal_width -1.2870; ,sepal_length -1.3720; sepal_width 0.3431; petal_length -1.3957; petal_width -1.2870; \n",
       "y: EmptyLabelList\n",
       ",,,,\n",
       "Path: ."
      ]
     },
     "execution_count": 5,
     "metadata": {
      "tags": []
     },
     "output_type": "execute_result"
    }
   ],
   "source": [
    "tfms = get_transforms(flip_vert=True)\n",
    "size = 128\n",
    "val_idx = get_valid_index(df_train)\n",
    "# load image data using train_df and prepare fastai LabelLists\n",
    "image_data = (ImageList.from_df(df_train, path='.', cols=\"image\",\n",
    "                               folder=\"images\",)\n",
    "              .split_by_idx(val_idx)\n",
    "              .label_from_df(cols=\"species\")\n",
    "              .transform(tfms, size=size))\n",
    "test_image_data = ImageList.from_df(df_test, path='.', cols=\"image\",\n",
    "                                    folder=\"images\")\n",
    "image_data.add_test(test_image_data)\n",
    "\n",
    "# Tabular data\n",
    "dep_var = 'species'\n",
    "cont_names = ['sepal_length', 'sepal_width', 'petal_length', 'petal_width']\n",
    "procs = [FillMissing, Categorify, Normalize]\n",
    "tab_data = (TabularList.from_df(df_train, path='.', cont_names=cont_names, procs=procs)\n",
    "                           .split_by_idx(val_idx)\n",
    "                           .label_from_df(cols=dep_var))\n",
    "tab_data.add_test(TabularList.from_df(df_test, cont_names=cont_names,\n",
    "                                      processor = tab_data.train.x.processor))"
   ]
  },
  {
   "cell_type": "markdown",
   "metadata": {
    "id": "hBnamzo614nU"
   },
   "source": [
    "Setelah itu data gambar dan data tabular digabungkan dengan menjadi fastai data bunch yang kemudian siap digunakan untuk training dan prediksi"
   ]
  },
  {
   "cell_type": "code",
   "execution_count": 6,
   "metadata": {
    "id": "B1-0VLJVbKHY"
   },
   "outputs": [],
   "source": [
    "integrate_train, integrate_valid, integrate_test = get_imagetabdatasets(image_data, tab_data)\n",
    "db = DataBunch.create(integrate_train, integrate_valid, integrate_test,\n",
    "                      path='.', bs=64)\n",
    "#image normalization\n",
    "db.norm, db.denorm = normalize_funcs_image_tab(*imagenet_stats)\n",
    "db.add_tfm(db.norm)\n",
    "x, y = next(iter(db.train_dl))"
   ]
  },
  {
   "cell_type": "markdown",
   "metadata": {
    "id": "k4Fk6WdFSawT"
   },
   "source": [
    "### Model"
   ]
  },
  {
   "cell_type": "markdown",
   "metadata": {
    "id": "3LilBkC_Scgf"
   },
   "source": [
    "2 model deep learning yang digunakan untuk klasifikasi ini adalah resnet50 untuk data gambar dan model tabular untuk data tabular."
   ]
  },
  {
   "cell_type": "code",
   "execution_count": 7,
   "metadata": {
    "id": "WiBQfNErbQEq"
   },
   "outputs": [],
   "source": [
    "# cnn model for images, use Resnet50 as an example\n",
    "cnn_arch = models.resnet50\n",
    "cnn_out_sz = 256\n",
    "# use fastai functions to get a cnn model\n",
    "image_data_db = image_data.databunch()\n",
    "image_data_db.c = cnn_out_sz\n",
    "cnn_learn = cnn_learner(image_data_db, cnn_arch)\n",
    "cnn_model = cnn_learn.model\n",
    "# use fastai functions to get a tabular model\n",
    "emb_szs = tab_data.train.get_emb_szs()\n",
    "tab_out_sz = 8\n",
    "tabular_model = TabularModel(emb_szs, len(cont_names), out_sz=tab_out_sz, layers=[8], ps=0.2)"
   ]
  },
  {
   "cell_type": "markdown",
   "metadata": {
    "id": "ZZqWGfXgV5t_"
   },
   "source": [
    "Kemudian Kedua model tersebut digabungkan menggunakan CNNTabularModel dari library image_tabular"
   ]
  },
  {
   "cell_type": "code",
   "execution_count": 8,
   "metadata": {
    "id": "WUrDoJ5SbXHH"
   },
   "outputs": [],
   "source": [
    "# get an integrated model that combines the two components and concatenate their outputs\n",
    "integrate_model = CNNTabularModel(cnn_model,\n",
    "                                  tabular_model,\n",
    "                                  layers = [cnn_out_sz + tab_out_sz],\n",
    "                                  ps=0.2,\n",
    "                                  out_sz=3).to(device)"
   ]
  },
  {
   "cell_type": "markdown",
   "metadata": {
    "id": "X4tX0oH6WNZI"
   },
   "source": [
    "### Train"
   ]
  },
  {
   "cell_type": "markdown",
   "metadata": {
    "id": "viwlvTmDWPSb"
   },
   "source": [
    "Model yang telah digabungkan diubah menjadi fastai learner untuk melakukan train pada model tersebut. Disini metrics yang digunakan adalah accuracy dan criterion yang digunakan adalah CrossEntropy loss yang menggabungkan nn.LogSoftmax() dan nn.NLLLoss()."
   ]
  },
  {
   "cell_type": "code",
   "execution_count": 9,
   "metadata": {
    "id": "M4f9NpwhbjrI"
   },
   "outputs": [],
   "source": [
    "# package everything in a fastai learner, add auc roc score as a metric\n",
    "learn = Learner(db, integrate_model, metrics=accuracy, loss_func = nn.CrossEntropyLoss())"
   ]
  },
  {
   "cell_type": "code",
   "execution_count": 10,
   "metadata": {
    "id": "9-RZhoPwZX3y"
   },
   "outputs": [],
   "source": [
    "learn.layer_groups = [nn.Sequential(*flatten_model(cnn_learn.layer_groups[0])),\n",
    "                      nn.Sequential(*flatten_model(cnn_learn.layer_groups[1])),\n",
    "                      nn.Sequential(*(flatten_model(cnn_learn.layer_groups[2]) +\n",
    "                                      flatten_model(integrate_model.tabular_model) +\n",
    "                                      flatten_model(integrate_model.layers)))]"
   ]
  },
  {
   "cell_type": "markdown",
   "metadata": {
    "id": "Ke4caARTmsPh"
   },
   "source": [
    "model dibagi menjadi group sehingga menggunakan metode freeze supaya model yang di update adalah model pada layer terakhir dan model pre-trained yang sudah memiliki weight yang baik tidak diupdate."
   ]
  },
  {
   "cell_type": "code",
   "execution_count": 11,
   "metadata": {
    "colab": {
     "base_uri": "https://localhost:8080/",
     "height": 491
    },
    "id": "etfLD-FAcFpv",
    "outputId": "933c4c46-a61b-40cf-8a4e-89f670ea8d60"
   },
   "outputs": [
    {
     "data": {
      "text/html": [
       "<table border=\"1\" class=\"dataframe\">\n",
       "  <thead>\n",
       "    <tr style=\"text-align: left;\">\n",
       "      <th>epoch</th>\n",
       "      <th>train_loss</th>\n",
       "      <th>valid_loss</th>\n",
       "      <th>accuracy</th>\n",
       "      <th>time</th>\n",
       "    </tr>\n",
       "  </thead>\n",
       "  <tbody>\n",
       "    <tr>\n",
       "      <td>0</td>\n",
       "      <td>1.189409</td>\n",
       "      <td>1.215501</td>\n",
       "      <td>0.333333</td>\n",
       "      <td>00:20</td>\n",
       "    </tr>\n",
       "    <tr>\n",
       "      <td>1</td>\n",
       "      <td>1.052813</td>\n",
       "      <td>1.130703</td>\n",
       "      <td>0.333333</td>\n",
       "      <td>00:22</td>\n",
       "    </tr>\n",
       "    <tr>\n",
       "      <td>2</td>\n",
       "      <td>0.899223</td>\n",
       "      <td>1.111323</td>\n",
       "      <td>0.370370</td>\n",
       "      <td>00:21</td>\n",
       "    </tr>\n",
       "    <tr>\n",
       "      <td>3</td>\n",
       "      <td>0.808824</td>\n",
       "      <td>1.146767</td>\n",
       "      <td>0.481481</td>\n",
       "      <td>00:21</td>\n",
       "    </tr>\n",
       "    <tr>\n",
       "      <td>4</td>\n",
       "      <td>0.729435</td>\n",
       "      <td>1.155374</td>\n",
       "      <td>0.555556</td>\n",
       "      <td>00:21</td>\n",
       "    </tr>\n",
       "    <tr>\n",
       "      <td>5</td>\n",
       "      <td>0.693567</td>\n",
       "      <td>1.172577</td>\n",
       "      <td>0.592593</td>\n",
       "      <td>00:22</td>\n",
       "    </tr>\n",
       "    <tr>\n",
       "      <td>6</td>\n",
       "      <td>0.656075</td>\n",
       "      <td>1.159968</td>\n",
       "      <td>0.555556</td>\n",
       "      <td>00:21</td>\n",
       "    </tr>\n",
       "    <tr>\n",
       "      <td>7</td>\n",
       "      <td>0.634173</td>\n",
       "      <td>1.097355</td>\n",
       "      <td>0.555556</td>\n",
       "      <td>00:20</td>\n",
       "    </tr>\n",
       "    <tr>\n",
       "      <td>8</td>\n",
       "      <td>0.596451</td>\n",
       "      <td>0.990746</td>\n",
       "      <td>0.555556</td>\n",
       "      <td>00:21</td>\n",
       "    </tr>\n",
       "    <tr>\n",
       "      <td>9</td>\n",
       "      <td>0.573410</td>\n",
       "      <td>0.923385</td>\n",
       "      <td>0.555556</td>\n",
       "      <td>00:22</td>\n",
       "    </tr>\n",
       "    <tr>\n",
       "      <td>10</td>\n",
       "      <td>0.552567</td>\n",
       "      <td>0.851970</td>\n",
       "      <td>0.555556</td>\n",
       "      <td>00:22</td>\n",
       "    </tr>\n",
       "    <tr>\n",
       "      <td>11</td>\n",
       "      <td>0.534983</td>\n",
       "      <td>0.776801</td>\n",
       "      <td>0.555556</td>\n",
       "      <td>00:21</td>\n",
       "    </tr>\n",
       "    <tr>\n",
       "      <td>12</td>\n",
       "      <td>0.527068</td>\n",
       "      <td>0.753128</td>\n",
       "      <td>0.703704</td>\n",
       "      <td>00:22</td>\n",
       "    </tr>\n",
       "    <tr>\n",
       "      <td>13</td>\n",
       "      <td>0.526830</td>\n",
       "      <td>0.718540</td>\n",
       "      <td>0.703704</td>\n",
       "      <td>00:21</td>\n",
       "    </tr>\n",
       "    <tr>\n",
       "      <td>14</td>\n",
       "      <td>0.509378</td>\n",
       "      <td>0.703602</td>\n",
       "      <td>0.777778</td>\n",
       "      <td>00:21</td>\n",
       "    </tr>\n",
       "  </tbody>\n",
       "</table>"
      ],
      "text/plain": [
       "<IPython.core.display.HTML object>"
      ]
     },
     "metadata": {
      "tags": []
     },
     "output_type": "display_data"
    }
   ],
   "source": [
    "learn.freeze()\n",
    "learn.fit(15, 1e-3)"
   ]
  },
  {
   "cell_type": "markdown",
   "metadata": {
    "id": "uRkuRkMUnAOf"
   },
   "source": [
    "Setelah melakukan update pada layer terakhir maka melakukan training untuk semua model"
   ]
  },
  {
   "cell_type": "code",
   "execution_count": 13,
   "metadata": {
    "colab": {
     "base_uri": "https://localhost:8080/",
     "height": 639
    },
    "id": "v8jWKcLFctEQ",
    "outputId": "66fd01cc-79cb-4797-bad7-ef1a6051f522"
   },
   "outputs": [
    {
     "data": {
      "text/html": [
       "<table border=\"1\" class=\"dataframe\">\n",
       "  <thead>\n",
       "    <tr style=\"text-align: left;\">\n",
       "      <th>epoch</th>\n",
       "      <th>train_loss</th>\n",
       "      <th>valid_loss</th>\n",
       "      <th>accuracy</th>\n",
       "      <th>time</th>\n",
       "    </tr>\n",
       "  </thead>\n",
       "  <tbody>\n",
       "    <tr>\n",
       "      <td>0</td>\n",
       "      <td>0.185993</td>\n",
       "      <td>0.606983</td>\n",
       "      <td>0.777778</td>\n",
       "      <td>00:27</td>\n",
       "    </tr>\n",
       "    <tr>\n",
       "      <td>1</td>\n",
       "      <td>0.156521</td>\n",
       "      <td>0.534577</td>\n",
       "      <td>0.814815</td>\n",
       "      <td>00:27</td>\n",
       "    </tr>\n",
       "    <tr>\n",
       "      <td>2</td>\n",
       "      <td>0.122848</td>\n",
       "      <td>0.492743</td>\n",
       "      <td>0.777778</td>\n",
       "      <td>00:26</td>\n",
       "    </tr>\n",
       "    <tr>\n",
       "      <td>3</td>\n",
       "      <td>0.109265</td>\n",
       "      <td>0.497594</td>\n",
       "      <td>0.814815</td>\n",
       "      <td>00:26</td>\n",
       "    </tr>\n",
       "    <tr>\n",
       "      <td>4</td>\n",
       "      <td>0.094332</td>\n",
       "      <td>0.489232</td>\n",
       "      <td>0.814815</td>\n",
       "      <td>00:25</td>\n",
       "    </tr>\n",
       "    <tr>\n",
       "      <td>5</td>\n",
       "      <td>0.089765</td>\n",
       "      <td>0.378515</td>\n",
       "      <td>0.851852</td>\n",
       "      <td>00:25</td>\n",
       "    </tr>\n",
       "    <tr>\n",
       "      <td>6</td>\n",
       "      <td>0.104534</td>\n",
       "      <td>0.482902</td>\n",
       "      <td>0.851852</td>\n",
       "      <td>00:26</td>\n",
       "    </tr>\n",
       "    <tr>\n",
       "      <td>7</td>\n",
       "      <td>0.107817</td>\n",
       "      <td>0.767235</td>\n",
       "      <td>0.851852</td>\n",
       "      <td>00:26</td>\n",
       "    </tr>\n",
       "    <tr>\n",
       "      <td>8</td>\n",
       "      <td>0.104354</td>\n",
       "      <td>0.840637</td>\n",
       "      <td>0.851852</td>\n",
       "      <td>00:25</td>\n",
       "    </tr>\n",
       "    <tr>\n",
       "      <td>9</td>\n",
       "      <td>0.104167</td>\n",
       "      <td>0.808447</td>\n",
       "      <td>0.851852</td>\n",
       "      <td>00:25</td>\n",
       "    </tr>\n",
       "    <tr>\n",
       "      <td>10</td>\n",
       "      <td>0.102499</td>\n",
       "      <td>0.673528</td>\n",
       "      <td>0.851852</td>\n",
       "      <td>00:26</td>\n",
       "    </tr>\n",
       "    <tr>\n",
       "      <td>11</td>\n",
       "      <td>0.105528</td>\n",
       "      <td>0.546739</td>\n",
       "      <td>0.851852</td>\n",
       "      <td>00:25</td>\n",
       "    </tr>\n",
       "    <tr>\n",
       "      <td>12</td>\n",
       "      <td>0.112495</td>\n",
       "      <td>0.443065</td>\n",
       "      <td>0.888889</td>\n",
       "      <td>00:26</td>\n",
       "    </tr>\n",
       "    <tr>\n",
       "      <td>13</td>\n",
       "      <td>0.111984</td>\n",
       "      <td>0.406492</td>\n",
       "      <td>0.851852</td>\n",
       "      <td>00:27</td>\n",
       "    </tr>\n",
       "    <tr>\n",
       "      <td>14</td>\n",
       "      <td>0.109365</td>\n",
       "      <td>0.393912</td>\n",
       "      <td>0.851852</td>\n",
       "      <td>00:26</td>\n",
       "    </tr>\n",
       "    <tr>\n",
       "      <td>15</td>\n",
       "      <td>0.114910</td>\n",
       "      <td>0.397045</td>\n",
       "      <td>0.851852</td>\n",
       "      <td>00:27</td>\n",
       "    </tr>\n",
       "    <tr>\n",
       "      <td>16</td>\n",
       "      <td>0.118730</td>\n",
       "      <td>0.402598</td>\n",
       "      <td>0.851852</td>\n",
       "      <td>00:27</td>\n",
       "    </tr>\n",
       "    <tr>\n",
       "      <td>17</td>\n",
       "      <td>0.115283</td>\n",
       "      <td>0.387012</td>\n",
       "      <td>0.851852</td>\n",
       "      <td>00:27</td>\n",
       "    </tr>\n",
       "    <tr>\n",
       "      <td>18</td>\n",
       "      <td>0.111873</td>\n",
       "      <td>0.390377</td>\n",
       "      <td>0.851852</td>\n",
       "      <td>00:27</td>\n",
       "    </tr>\n",
       "    <tr>\n",
       "      <td>19</td>\n",
       "      <td>0.109385</td>\n",
       "      <td>0.386504</td>\n",
       "      <td>0.851852</td>\n",
       "      <td>00:27</td>\n",
       "    </tr>\n",
       "  </tbody>\n",
       "</table>"
      ],
      "text/plain": [
       "<IPython.core.display.HTML object>"
      ]
     },
     "metadata": {
      "tags": []
     },
     "output_type": "display_data"
    }
   ],
   "source": [
    "learn.unfreeze()\n",
    "learn.fit_one_cycle(20, max_lr=slice(1e-4,1e-3))"
   ]
  },
  {
   "cell_type": "code",
   "execution_count": 14,
   "metadata": {
    "colab": {
     "base_uri": "https://localhost:8080/",
     "height": 34
    },
    "id": "0IeZ0AE_8R_A",
    "outputId": "88e666f2-48aa-43dd-ae4d-1ca85ca16835"
   },
   "outputs": [
    {
     "data": {
      "text/html": [],
      "text/plain": [
       "<IPython.core.display.HTML object>"
      ]
     },
     "metadata": {
      "tags": []
     },
     "output_type": "display_data"
    },
    {
     "data": {
      "text/plain": [
       "tensor(0.8519)"
      ]
     },
     "execution_count": 14,
     "metadata": {
      "tags": []
     },
     "output_type": "execute_result"
    }
   ],
   "source": [
    "preds, y = learn.get_preds(ds_type=DatasetType.Valid)\n",
    "acc = accuracy(preds, y)\n",
    "acc"
   ]
  },
  {
   "cell_type": "markdown",
   "metadata": {
    "id": "rOaabHn-xiqX"
   },
   "source": [
    "### B. Analisa dari hasil train"
   ]
  },
  {
   "cell_type": "markdown",
   "metadata": {
    "id": "u6Rf1tkIxmmr"
   },
   "source": [
    "Hasil dari training yang didapatkan, untuk model gabungan ini memiliki accuracy 86% yang merupakan hasil yang cukup baik. Akan tetapi, model ini memiliki kemungkinan overfitting yang dapat dilihat dengan adanya gap antara train loss dan valid loss. Apabila data ditambahkan maka akan memperkecil overfitting."
   ]
  },
  {
   "cell_type": "markdown",
   "metadata": {
    "id": "loiqBwtus1yk"
   },
   "source": [
    "### C. Keunikan dari model"
   ]
  },
  {
   "cell_type": "markdown",
   "metadata": {
    "id": "pk-ouePWtCeC"
   },
   "source": [
    "Model deep learning yang digunakan untuk klasifikasi 3 jenis bunga dengan menggabungkan data tabular dan data gambar adalah menggunakan model pre-trained cnn resnet-50 dan juga model tabular dari fast ai."
   ]
  },
  {
   "cell_type": "markdown",
   "metadata": {
    "id": "q3eoa3vcticT"
   },
   "source": [
    "Resnet-50 adalah convolutional neural network yang memiliki 50 layers. Resnet sangat sering digunakan untuk menangani computer vision dimana ia menggunakan skip connection untuk menambah output dari layer sebelumnya ke layer setelahnya sehingga dapat membantu masalah vanishing gradient"
   ]
  },
  {
   "cell_type": "markdown",
   "metadata": {
    "id": "4ruszxfBjBkA"
   },
   "source": [
    "Tidak hanya untuk menggabungkan penggunaan data tabular dan data gambar, Fastai juga merupakan library deep learning yang menyediakan model untuk vision, tabular, text, dan collaborative filtering. Disini saya menggunakan tabular model dimana variable continuous akan dimasukkan ke layer batch normalization dan variable kategori akan dimasukkan ke embedding layer yang kemudian akan digabungkan dan dimasukkan ke LinBnDrop sebelum ke layer linear yang akan menghasilkan output terakhir"
   ]
  },
  {
   "cell_type": "markdown",
   "metadata": {
    "id": "cTYBrI-sxKJJ"
   },
   "source": [
    "Kemudian 2 model tersebut akan digabungkan menjadi 1 yang kemudian akan digabungkan dan ditambahkan fully connected layer sehingga dapat menghasilkan prediksi yang diinginkan."
   ]
  },
  {
   "cell_type": "markdown",
   "metadata": {},
   "source": [
    "Resource code: https://towardsdatascience.com/integrating-image-and-tabular-data-for-deep-learning-9281397c7318"
   ]
  }
 ],
 "metadata": {
  "colab": {
   "collapsed_sections": [],
   "name": "IrisClassification.ipynb",
   "provenance": []
  },
  "kernelspec": {
   "display_name": "Python 3",
   "language": "python",
   "name": "python3"
  },
  "language_info": {
   "codemirror_mode": {
    "name": "ipython",
    "version": 3
   },
   "file_extension": ".py",
   "mimetype": "text/x-python",
   "name": "python",
   "nbconvert_exporter": "python",
   "pygments_lexer": "ipython3",
   "version": "3.6.8"
  }
 },
 "nbformat": 4,
 "nbformat_minor": 1
}
